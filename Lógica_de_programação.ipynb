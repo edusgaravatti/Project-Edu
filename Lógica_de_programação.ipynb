{
  "nbformat": 4,
  "nbformat_minor": 0,
  "metadata": {
    "colab": {
      "name": "Lógica de programação.ipynb",
      "provenance": [],
      "authorship_tag": "ABX9TyNRMiZ/ro4SIYHx8wct12Jw",
      "include_colab_link": true
    },
    "kernelspec": {
      "name": "python3",
      "display_name": "Python 3"
    },
    "language_info": {
      "name": "python"
    }
  },
  "cells": [
    {
      "cell_type": "markdown",
      "metadata": {
        "id": "view-in-github",
        "colab_type": "text"
      },
      "source": [
        "<a href=\"https://colab.research.google.com/github/edusgaravatti/Project-Edu/blob/main/L%C3%B3gica_de_programa%C3%A7%C3%A3o.ipynb\" target=\"_parent\"><img src=\"https://colab.research.google.com/assets/colab-badge.svg\" alt=\"Open In Colab\"/></a>"
      ]
    },
    {
      "cell_type": "markdown",
      "source": [
        "# Lógica de programação com Python"
      ],
      "metadata": {
        "id": "0vmjxZthtvIW"
      }
    },
    {
      "cell_type": "code",
      "execution_count": 1,
      "metadata": {
        "colab": {
          "base_uri": "https://localhost:8080/"
        },
        "id": "y-orMqxjte6_",
        "outputId": "a07d7951-a2ea-4714-f0de-4a1816416f43"
      },
      "outputs": [
        {
          "output_type": "execute_result",
          "data": {
            "text/plain": [
              "2"
            ]
          },
          "metadata": {},
          "execution_count": 1
        }
      ],
      "source": [
        "1+1"
      ]
    },
    {
      "cell_type": "code",
      "source": [
        "\"Eduardo\""
      ],
      "metadata": {
        "colab": {
          "base_uri": "https://localhost:8080/",
          "height": 35
        },
        "id": "hwIzyddYtumv",
        "outputId": "99cb74ad-bf09-4069-c8d8-f12230ed0a20"
      },
      "execution_count": 3,
      "outputs": [
        {
          "output_type": "execute_result",
          "data": {
            "text/plain": [
              "'Eduardo'"
            ],
            "application/vnd.google.colaboratory.intrinsic+json": {
              "type": "string"
            }
          },
          "metadata": {},
          "execution_count": 3
        }
      ]
    },
    {
      "cell_type": "code",
      "source": [
        "'Eduardo'"
      ],
      "metadata": {
        "colab": {
          "base_uri": "https://localhost:8080/",
          "height": 35
        },
        "id": "mWIjrwp1uE0t",
        "outputId": "e7d176a2-c680-491a-fc63-b0856aa0773b"
      },
      "execution_count": 4,
      "outputs": [
        {
          "output_type": "execute_result",
          "data": {
            "text/plain": [
              "'Eduardo'"
            ],
            "application/vnd.google.colaboratory.intrinsic+json": {
              "type": "string"
            }
          },
          "metadata": {},
          "execution_count": 4
        }
      ]
    },
    {
      "cell_type": "code",
      "source": [
        "nome = 'Eduardo'"
      ],
      "metadata": {
        "id": "KtcQGvtDuOZt"
      },
      "execution_count": 5,
      "outputs": []
    },
    {
      "cell_type": "code",
      "source": [
        "nome\n"
      ],
      "metadata": {
        "colab": {
          "base_uri": "https://localhost:8080/",
          "height": 35
        },
        "id": "lRgWdBjNuvmJ",
        "outputId": "2edb1b10-0c7c-4cd1-9efa-cbe8c360c6ea"
      },
      "execution_count": 6,
      "outputs": [
        {
          "output_type": "execute_result",
          "data": {
            "text/plain": [
              "'Eduardo'"
            ],
            "application/vnd.google.colaboratory.intrinsic+json": {
              "type": "string"
            }
          },
          "metadata": {},
          "execution_count": 6
        }
      ]
    },
    {
      "cell_type": "code",
      "source": [
        "idade = 28"
      ],
      "metadata": {
        "id": "0FVCNxpmuw4k"
      },
      "execution_count": 7,
      "outputs": []
    },
    {
      "cell_type": "code",
      "source": [
        "print('O nome é Eduardo e sua idade é 28 anos')"
      ],
      "metadata": {
        "colab": {
          "base_uri": "https://localhost:8080/"
        },
        "id": "sITp7f_Qu1PZ",
        "outputId": "d2637648-5fdf-414a-c8f5-a9cf30518b46"
      },
      "execution_count": 8,
      "outputs": [
        {
          "output_type": "stream",
          "name": "stdout",
          "text": [
            "O nome é Eduardo e sua idade é 28 anos\n"
          ]
        }
      ]
    },
    {
      "cell_type": "code",
      "source": [
        "print(f'O nome é {nome} e sua idade é {idade} anos')"
      ],
      "metadata": {
        "colab": {
          "base_uri": "https://localhost:8080/"
        },
        "id": "9P5cy7ITvJ34",
        "outputId": "eb271af4-847c-437c-d5e1-164b1f54b691"
      },
      "execution_count": 9,
      "outputs": [
        {
          "output_type": "stream",
          "name": "stdout",
          "text": [
            "O nome é Eduardo e sua idade é 28 anos\n"
          ]
        }
      ]
    },
    {
      "cell_type": "code",
      "source": [
        ""
      ],
      "metadata": {
        "id": "sit_OfoFvy5Q"
      },
      "execution_count": null,
      "outputs": []
    },
    {
      "cell_type": "markdown",
      "source": [
        "# Criando minha primeira função"
      ],
      "metadata": {
        "id": "w6lCoM35v99L"
      }
    },
    {
      "cell_type": "code",
      "source": [
        "def saudacao():\n",
        "  nome = input('Qual o seu nome? ')\n",
        "  print(f'Olá {nome}')"
      ],
      "metadata": {
        "id": "doVrDeaowBjI"
      },
      "execution_count": 11,
      "outputs": []
    },
    {
      "cell_type": "code",
      "source": [
        "saudacao()"
      ],
      "metadata": {
        "colab": {
          "base_uri": "https://localhost:8080/"
        },
        "id": "FC1owkPmwhNW",
        "outputId": "7bc29ad8-ebc2-4d78-ba90-da408beab7a2"
      },
      "execution_count": 12,
      "outputs": [
        {
          "output_type": "stream",
          "name": "stdout",
          "text": [
            "Qual o seu nome?Eduardo\n",
            "OláEduardo\n"
          ]
        }
      ]
    },
    {
      "cell_type": "code",
      "source": [
        "saudacao()"
      ],
      "metadata": {
        "colab": {
          "base_uri": "https://localhost:8080/"
        },
        "id": "KAAIO38Jwrql",
        "outputId": "a7d8e84a-2800-437a-f2a2-ac585cde7899"
      },
      "execution_count": 14,
      "outputs": [
        {
          "output_type": "stream",
          "name": "stdout",
          "text": [
            "Qual o seu nome?Eduardo\n",
            "OláEduardo\n"
          ]
        }
      ]
    },
    {
      "cell_type": "code",
      "source": [
        "def nome_completo():\n",
        "  primeiro_nome = input('Qual seu primeiro nome? ')\n",
        "  sobrenome = input('Qual seu sobrenome? ')\n",
        "  nome_inteiro = primeiro_nome + ' ' + sobrenome\n",
        "  print(nome_inteiro)"
      ],
      "metadata": {
        "id": "1jOBSoE_ww4N"
      },
      "execution_count": 19,
      "outputs": []
    },
    {
      "cell_type": "code",
      "source": [
        "nome_completo()"
      ],
      "metadata": {
        "colab": {
          "base_uri": "https://localhost:8080/"
        },
        "id": "lCFAOcM6z_PZ",
        "outputId": "ff8bce7a-10c9-49c7-ce8a-b99ede844b11"
      },
      "execution_count": 20,
      "outputs": [
        {
          "output_type": "stream",
          "name": "stdout",
          "text": [
            "Qual seu primeiro nome? Eduardo\n",
            "Qual seu sobrenome? Sgaravatti\n",
            "Eduardo Sgaravatti\n"
          ]
        }
      ]
    },
    {
      "cell_type": "code",
      "source": [
        "nome = 'Gabriela'"
      ],
      "metadata": {
        "id": "7BCwf9At0Fmj"
      },
      "execution_count": 21,
      "outputs": []
    },
    {
      "cell_type": "markdown",
      "source": [
        "# Parâmetros"
      ],
      "metadata": {
        "id": "H0k02FZr9kau"
      }
    },
    {
      "cell_type": "code",
      "source": [
        "def saudacao_com_parametro(nome_da_pessoa):\n",
        "  print(f'Olá {nome_da_pessoa}')"
      ],
      "metadata": {
        "id": "Vy0NgRMi9A6I"
      },
      "execution_count": 22,
      "outputs": []
    },
    {
      "cell_type": "code",
      "source": [
        "saudacao_com_parametro(nome)"
      ],
      "metadata": {
        "colab": {
          "base_uri": "https://localhost:8080/"
        },
        "id": "SAoWbU4b9UsQ",
        "outputId": "a799ce1d-766f-40e6-b2d9-715ddd087b10"
      },
      "execution_count": 23,
      "outputs": [
        {
          "output_type": "stream",
          "name": "stdout",
          "text": [
            "Olá Gabriela\n"
          ]
        }
      ]
    },
    {
      "cell_type": "code",
      "source": [
        ""
      ],
      "metadata": {
        "id": "8eDx2X7v9oDN"
      },
      "execution_count": null,
      "outputs": []
    },
    {
      "cell_type": "markdown",
      "source": [
        "# Condicional"
      ],
      "metadata": {
        "id": "92cOOZHu-zfP"
      }
    },
    {
      "cell_type": "code",
      "source": [
        "idade = 15"
      ],
      "metadata": {
        "id": "uJsfM_GT-2Ko"
      },
      "execution_count": 27,
      "outputs": []
    },
    {
      "cell_type": "code",
      "source": [
        "def verifica_se_pode_dirigir(idade):\n",
        "  if idade >= 18:\n",
        "    print('Tem permissão para dirigir')\n",
        "  else:\n",
        "    print('Não tem permissão para dirigir')\n",
        "\n",
        "verifica_se_pode_dirigir(idade)"
      ],
      "metadata": {
        "colab": {
          "base_uri": "https://localhost:8080/"
        },
        "id": "OZka4Z2_-4Xx",
        "outputId": "2f200b4a-0b16-4c84-b641-4e81476e9da3"
      },
      "execution_count": 29,
      "outputs": [
        {
          "output_type": "stream",
          "name": "stdout",
          "text": [
            "Não tem permissão para dirigir\n"
          ]
        }
      ]
    },
    {
      "cell_type": "markdown",
      "source": [
        "# **Convertendo tipo para inteiro**"
      ],
      "metadata": {
        "id": "PDO4Zt8RBA4B"
      }
    },
    {
      "cell_type": "code",
      "source": [
        "def verifica_se_pode_dirigir_sem_parametros():\n",
        "  idade = input('Qual sua idade? ')\n",
        "  idade = int(idade)\n",
        "  if idade >= 18:\n",
        "    print('Tem permissão para dirigir')\n",
        "  else:\n",
        "    print('Não tem permissão para dirigir')\n",
        "\n",
        "verifica_se_pode_dirigir_sem_parametros()"
      ],
      "metadata": {
        "colab": {
          "base_uri": "https://localhost:8080/"
        },
        "id": "iAnMc4N8_YMb",
        "outputId": "34f5217c-f48a-4297-e5bd-c3379b6c7f9e"
      },
      "execution_count": 32,
      "outputs": [
        {
          "output_type": "stream",
          "name": "stdout",
          "text": [
            "Qual sua idade? 18\n",
            "Tem permissão para dirigir\n"
          ]
        }
      ]
    },
    {
      "cell_type": "markdown",
      "source": [
        "# Exercicio Aula 2"
      ],
      "metadata": {
        "id": "bHkI9WlxB3a5"
      }
    },
    {
      "cell_type": "code",
      "source": [
        "def calcula_velocidade(espaco, tempo):\n",
        "  v = espaco/tempo\n",
        "  print(f'Velocidade: {v} m/s')\n",
        "\n",
        "calcula_velocidade(100, 20)"
      ],
      "metadata": {
        "colab": {
          "base_uri": "https://localhost:8080/"
        },
        "id": "BsUgJk7HAWfr",
        "outputId": "ab26d1e6-caf2-431a-fee7-9ac3bf8886fd"
      },
      "execution_count": 34,
      "outputs": [
        {
          "output_type": "stream",
          "name": "stdout",
          "text": [
            "Velocidade: 5.0 m/s\n"
          ]
        }
      ]
    },
    {
      "cell_type": "code",
      "source": [
        "def habilitacao():\n",
        "  idade = input ('Qual sua idade? ')\n",
        "  idade = int(idade)\n",
        "  if idade >= 18:\n",
        "    print('Pode tirar habilitação')\n",
        "  else:\n",
        "    tempo = 18 - idade\n",
        "    print(f'Calma...espere {tempo} ano(s) para sua habilitação')\n",
        "\n",
        "habilitacao()"
      ],
      "metadata": {
        "colab": {
          "base_uri": "https://localhost:8080/"
        },
        "id": "hGcBVUnBBExf",
        "outputId": "9341e6c0-29e9-423e-b067-f288231a855b"
      },
      "execution_count": 37,
      "outputs": [
        {
          "output_type": "stream",
          "name": "stdout",
          "text": [
            "Qual sua idade? 15\n",
            "Calma...espere 3 ano(s) para sua habilitação\n"
          ]
        }
      ]
    },
    {
      "cell_type": "markdown",
      "source": [
        "# **Lista**"
      ],
      "metadata": {
        "id": "on3-Xyu-INBe"
      }
    },
    {
      "cell_type": "code",
      "source": [
        "idades = [18, 20, 22, 15, 59]\n",
        "#         0   1   2    3   4\n",
        "#         0  -4  -3   -2  -1\n",
        "type(idades)\n"
      ],
      "metadata": {
        "colab": {
          "base_uri": "https://localhost:8080/"
        },
        "id": "mzPJQIluIPQy",
        "outputId": "b681d212-258e-4354-b078-49a160a6dc0c"
      },
      "execution_count": 39,
      "outputs": [
        {
          "output_type": "execute_result",
          "data": {
            "text/plain": [
              "list"
            ]
          },
          "metadata": {},
          "execution_count": 39
        }
      ]
    },
    {
      "cell_type": "code",
      "source": [
        "idades[2]"
      ],
      "metadata": {
        "colab": {
          "base_uri": "https://localhost:8080/"
        },
        "id": "v0KSx9wuE9B7",
        "outputId": "70df9b8e-bf4c-4a91-e199-5091470b2c3c"
      },
      "execution_count": 41,
      "outputs": [
        {
          "output_type": "execute_result",
          "data": {
            "text/plain": [
              "22"
            ]
          },
          "metadata": {},
          "execution_count": 41
        }
      ]
    },
    {
      "cell_type": "code",
      "source": [
        "idades [0:2]"
      ],
      "metadata": {
        "colab": {
          "base_uri": "https://localhost:8080/"
        },
        "id": "TXWRPI1UImhP",
        "outputId": "6a3d27cc-9f01-49d5-f687-83ddeb48f770"
      },
      "execution_count": 42,
      "outputs": [
        {
          "output_type": "execute_result",
          "data": {
            "text/plain": [
              "[18, 20]"
            ]
          },
          "metadata": {},
          "execution_count": 42
        }
      ]
    },
    {
      "cell_type": "code",
      "source": [
        "idades[1:]"
      ],
      "metadata": {
        "colab": {
          "base_uri": "https://localhost:8080/"
        },
        "id": "NxCBhariI2lj",
        "outputId": "d3b9c604-89ec-499c-b94a-fc6fc3620b36"
      },
      "execution_count": 43,
      "outputs": [
        {
          "output_type": "execute_result",
          "data": {
            "text/plain": [
              "[20, 22, 15, 59]"
            ]
          },
          "metadata": {},
          "execution_count": 43
        }
      ]
    },
    {
      "cell_type": "code",
      "source": [
        "idades[-1]"
      ],
      "metadata": {
        "colab": {
          "base_uri": "https://localhost:8080/"
        },
        "id": "hTNEALFqJE-S",
        "outputId": "ed5b087c-5001-4778-fcf9-89a74436687a"
      },
      "execution_count": 44,
      "outputs": [
        {
          "output_type": "execute_result",
          "data": {
            "text/plain": [
              "59"
            ]
          },
          "metadata": {},
          "execution_count": 44
        }
      ]
    },
    {
      "cell_type": "markdown",
      "source": [
        "# Laços e loops"
      ],
      "metadata": {
        "id": "N7CCud1zJpqS"
      }
    },
    {
      "cell_type": "code",
      "source": [
        "idades = [18, 20, 22, 15, 59]"
      ],
      "metadata": {
        "id": "hu8LzZl2Jsyp"
      },
      "execution_count": 51,
      "outputs": []
    },
    {
      "cell_type": "code",
      "source": [
        "def verifica_se_pode_dirigir(idade):\n",
        "  if idade >= 18:\n",
        "    print(f'{idade} anos de idade, TEM permissão para dirigir')\n",
        "  else:\n",
        "    print(f'{idade} anos de idade, NÃO TEM permissão para dirigir')\n",
        "\n",
        "for idade in idades:\n",
        "  verifica_se_pode_dirigir(idade)"
      ],
      "metadata": {
        "colab": {
          "base_uri": "https://localhost:8080/"
        },
        "id": "p0vy-cfoJL6E",
        "outputId": "896b0c86-d29e-479e-e890-a4c3dd4651ef"
      },
      "execution_count": 60,
      "outputs": [
        {
          "output_type": "stream",
          "name": "stdout",
          "text": [
            "18 anos de idade, TEM permissão para dirigir\n",
            "20 anos de idade, TEM permissão para dirigir\n",
            "22 anos de idade, TEM permissão para dirigir\n",
            "15 anos de idade, NÃO TEM permissão para dirigir\n",
            "59 anos de idade, TEM permissão para dirigir\n"
          ]
        }
      ]
    },
    {
      "cell_type": "code",
      "source": [
        "def verifica_se_pode_dirigir(idades):\n",
        "  for idade in idades:\n",
        "   if idade >= 18:\n",
        "    print(f'{idade} anos de idade, TEM permissão para dirigir')\n",
        "   else:\n",
        "    print(f'{idade} anos de idade, NÃO TEM permissão para dirigir')\n",
        "\n",
        "\n",
        "verifica_se_pode_dirigir(idades)"
      ],
      "metadata": {
        "colab": {
          "base_uri": "https://localhost:8080/"
        },
        "id": "PPzglvvnLUvA",
        "outputId": "f39dfa8b-50b9-46eb-da8b-b5323bfd0ed9"
      },
      "execution_count": 61,
      "outputs": [
        {
          "output_type": "stream",
          "name": "stdout",
          "text": [
            "18 anos de idade, TEM permissão para dirigir\n",
            "20 anos de idade, TEM permissão para dirigir\n",
            "22 anos de idade, TEM permissão para dirigir\n",
            "15 anos de idade, NÃO TEM permissão para dirigir\n",
            "59 anos de idade, TEM permissão para dirigir\n"
          ]
        }
      ]
    },
    {
      "cell_type": "markdown",
      "source": [
        "# **Boleano**"
      ],
      "metadata": {
        "id": "O9wKXmpQNfvf"
      }
    },
    {
      "cell_type": "code",
      "source": [
        "idade = 18\n",
        "idade>= 18"
      ],
      "metadata": {
        "colab": {
          "base_uri": "https://localhost:8080/"
        },
        "id": "vNYlFIMfNU0q",
        "outputId": "54283c48-5f52-4aa7-c557-c75587831a79"
      },
      "execution_count": 62,
      "outputs": [
        {
          "output_type": "execute_result",
          "data": {
            "text/plain": [
              "True"
            ]
          },
          "metadata": {},
          "execution_count": 62
        }
      ]
    },
    {
      "cell_type": "code",
      "source": [
        "idade = 15\n",
        "idade>= 18"
      ],
      "metadata": {
        "colab": {
          "base_uri": "https://localhost:8080/"
        },
        "id": "CM2Tnoy5Nh0Q",
        "outputId": "c8f701c5-1702-4e34-ed8a-c0aef68ebbff"
      },
      "execution_count": 63,
      "outputs": [
        {
          "output_type": "execute_result",
          "data": {
            "text/plain": [
              "False"
            ]
          },
          "metadata": {},
          "execution_count": 63
        }
      ]
    },
    {
      "cell_type": "code",
      "source": [
        "permissoes = []\n",
        "idades = [20, 14, 40]\n",
        "\n",
        "def verifica_se_pode_dirigir(idades, permissoes):\n",
        "  for idade in idades:\n",
        "    if idade >= 18:\n",
        "      permissoes.append(True)\n",
        "    else:\n",
        "      permissoes.append(False)\n",
        "\n",
        "verifica_se_pode_dirigir(idades, permissoes)"
      ],
      "metadata": {
        "id": "sFU0cU-YNrA8"
      },
      "execution_count": 73,
      "outputs": []
    },
    {
      "cell_type": "code",
      "source": [
        "permissoes"
      ],
      "metadata": {
        "colab": {
          "base_uri": "https://localhost:8080/"
        },
        "id": "mpJ0qg_COVjk",
        "outputId": "9fcf7aa9-61a5-410d-a924-6cbb2b2bb5b9"
      },
      "execution_count": 76,
      "outputs": [
        {
          "output_type": "execute_result",
          "data": {
            "text/plain": [
              "[True, False, True, True, False, True, True, False, True]"
            ]
          },
          "metadata": {},
          "execution_count": 76
        }
      ]
    },
    {
      "cell_type": "code",
      "source": [
        "for permissao in permissoes:\n",
        "  if permissao == True:\n",
        "    print('Tem permissão para dirigir')\n",
        "  else:\n",
        "    print('Não tem permissao para dirigir')"
      ],
      "metadata": {
        "colab": {
          "base_uri": "https://localhost:8080/"
        },
        "id": "wGDPZphLPLV2",
        "outputId": "b9a279e1-795c-4f83-ad8e-2c4292f4a3c5"
      },
      "execution_count": 78,
      "outputs": [
        {
          "output_type": "stream",
          "name": "stdout",
          "text": [
            "Tem permissão para dirigir\n",
            "Não tem permissao para dirigir\n",
            "Tem permissão para dirigir\n",
            "Tem permissão para dirigir\n",
            "Não tem permissao para dirigir\n",
            "Tem permissão para dirigir\n",
            "Tem permissão para dirigir\n",
            "Não tem permissao para dirigir\n",
            "Tem permissão para dirigir\n"
          ]
        }
      ]
    },
    {
      "cell_type": "code",
      "source": [
        "frase_alura = [' Digitais', 'e ', 'Negócios ', 'de ', 'Tecnologia ', 'Cursos ']"
      ],
      "metadata": {
        "id": "CnbNrzKQPjzN"
      },
      "execution_count": null,
      "outputs": []
    }
  ]
}